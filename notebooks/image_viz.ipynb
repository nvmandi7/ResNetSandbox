{
 "cells": [
  {
   "cell_type": "code",
   "execution_count": null,
   "metadata": {},
   "outputs": [
    {
     "ename": "",
     "evalue": "",
     "output_type": "error",
     "traceback": [
      "\u001b[1;31mRunning cells with '/usr/bin/python3.8' requires the ipykernel package.\n",
      "\u001b[1;31mRun the following command to install 'ipykernel' into the Python environment. \n",
      "\u001b[1;31mCommand: '/usr/bin/python3.8 -m pip install ipykernel -U --user --force-reinstall'"
     ]
    }
   ],
   "source": [
    "% cd .."
   ]
  },
  {
   "cell_type": "code",
   "execution_count": null,
   "metadata": {},
   "outputs": [],
   "source": [
    "\n",
    "import torch\n",
    "import torchvision\n",
    "from torch.utils.data import DataLoader\n",
    "from torch.optim import SGD\n",
    "from torch import nn\n",
    "from torchvision.datasets import CIFAR10\n",
    "from torchvision.transforms import ToTensor\n",
    "\n",
    "from src.resnet.resnet18 import ResNet18\n",
    "from src.training.trainer import Trainer\n",
    "\n",
    "# Run a training loop as a simple script here,\n",
    "# then replicate that functionality in training session with a config\n",
    "# this script is essentially the run method of training session\n",
    "\n",
    "# imagenet dataset\n",
    "    # dataset = torch.utils.data.Dataset(torchvision.datasets.ImageNet(root=\"data/tiny-imagenet-200\", split=\"train\"))\n",
    "    # dataset = CIFAR10(root='data/', download=True, transform=ToTensor())\n",
    "\n",
    "def main():\n",
    "    transform = torchvision.transforms.Compose([\n",
    "        torchvision.transforms.ToTensor(), \n",
    "        torchvision.transforms.Resize(size=256, interpolation=torchvision.transforms.InterpolationMode.BILINEAR),\n",
    "        torchvision.transforms.CenterCrop(size=224),\n",
    "        torchvision.transforms.Normalize(mean=[0.485, 0.456, 0.406], std=[0.229, 0.224, 0.225])\n",
    "    ])\n",
    "\n",
    "    dataset = torchvision.datasets.ImageFolder(\n",
    "        root='data/tiny-imagenet-200/train',\n",
    "        transform=transform,\n",
    "    )\n",
    "\n",
    "    # dataset = torchvision.datasets.ImageFolder(root=\"data/tiny-imagenet-200/train\", transform=ToTensor())\n",
    "    dataloader = DataLoader(dataset, batch_size=32, shuffle=True, num_workers=4)\n",
    "\n"
   ]
  }
 ],
 "metadata": {
  "kernelspec": {
   "display_name": "Python 3",
   "language": "python",
   "name": "python3"
  },
  "language_info": {
   "name": "python",
   "version": "3.8.0"
  },
  "orig_nbformat": 4
 },
 "nbformat": 4,
 "nbformat_minor": 2
}
