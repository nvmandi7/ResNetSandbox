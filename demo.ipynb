{
 "cells": [
  {
   "cell_type": "code",
   "execution_count": 3,
   "metadata": {},
   "outputs": [
    {
     "ename": "ModuleNotFoundError",
     "evalue": "No module named 'resnet.resnet_dataloader'",
     "output_type": "error",
     "traceback": [
      "\u001b[0;31m---------------------------------------------------------------------------\u001b[0m",
      "\u001b[0;31mModuleNotFoundError\u001b[0m                       Traceback (most recent call last)",
      "Cell \u001b[0;32mIn[3], line 8\u001b[0m\n\u001b[1;32m      5\u001b[0m \u001b[39mimport\u001b[39;00m \u001b[39mtorch\u001b[39;00m\n\u001b[1;32m      7\u001b[0m \u001b[39m# import dataloader from resnet/resnet_dataloader.py\u001b[39;00m\n\u001b[0;32m----> 8\u001b[0m \u001b[39mfrom\u001b[39;00m \u001b[39mresnet\u001b[39;00m\u001b[39m.\u001b[39;00m\u001b[39mresnet_dataloader\u001b[39;00m \u001b[39mimport\u001b[39;00m ResNetDataloader\n",
      "\u001b[0;31mModuleNotFoundError\u001b[0m: No module named 'resnet.resnet_dataloader'"
     ]
    }
   ],
   "source": [
    "import sys, os\n",
    "# sys.path.append(os.path.abspath(os.path.join('.')))\n",
    "\n",
    "import pandas as pd\n",
    "import torch\n",
    "\n",
    "# import dataloader from resnet/resnet_dataloader.py\n",
    "from resnet.resnet_dataloader import ResNetDataloader"
   ]
  },
  {
   "cell_type": "code",
   "execution_count": 2,
   "metadata": {},
   "outputs": [
    {
     "data": {
      "text/plain": [
       "['/Users/nathanmandi/Repos/ResNetSandbox',\n",
       " '/Users/nathanmandi/Repos/ResNetSandbox',\n",
       " '/Users/nathanmandi/Documents/Bioinformatics/Rosalind',\n",
       " '/Users/nathanmandi/ML-stuff/CeresTech/ceres-supply-chain-models',\n",
       " '/Users/nathanmandi/opt/anaconda3/envs/ml/lib/python38.zip',\n",
       " '/Users/nathanmandi/opt/anaconda3/envs/ml/lib/python3.8',\n",
       " '/Users/nathanmandi/opt/anaconda3/envs/ml/lib/python3.8/lib-dynload',\n",
       " '',\n",
       " '/Users/nathanmandi/opt/anaconda3/envs/ml/lib/python3.8/site-packages',\n",
       " '/Users/nathanmandi/Repos/potluck-python']"
      ]
     },
     "execution_count": 2,
     "metadata": {},
     "output_type": "execute_result"
    }
   ],
   "source": [
    "sys.path"
   ]
  },
  {
   "cell_type": "code",
   "execution_count": null,
   "metadata": {},
   "outputs": [],
   "source": []
  }
 ],
 "metadata": {
  "kernelspec": {
   "display_name": "ml",
   "language": "python",
   "name": "python3"
  },
  "language_info": {
   "codemirror_mode": {
    "name": "ipython",
    "version": 3
   },
   "file_extension": ".py",
   "mimetype": "text/x-python",
   "name": "python",
   "nbconvert_exporter": "python",
   "pygments_lexer": "ipython3",
   "version": "3.8.16"
  },
  "orig_nbformat": 4
 },
 "nbformat": 4,
 "nbformat_minor": 2
}
